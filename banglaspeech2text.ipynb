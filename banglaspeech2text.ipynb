{
  "nbformat": 4,
  "nbformat_minor": 0,
  "metadata": {
    "colab": {
      "provenance": [],
      "gpuType": "T4"
    },
    "kernelspec": {
      "name": "python3",
      "display_name": "Python 3"
    },
    "language_info": {
      "name": "python"
    },
    "accelerator": "GPU"
  },
  "cells": [
    {
      "cell_type": "code",
      "execution_count": 7,
      "metadata": {
        "colab": {
          "base_uri": "https://localhost:8080/"
        },
        "id": "6hdqvpD3o0FX",
        "outputId": "a867d44f-134a-4d71-eda2-8e6d0b6675f1"
      },
      "outputs": [
        {
          "output_type": "stream",
          "name": "stdout",
          "text": [
            "Requirement already satisfied: banglaspeech2text in /usr/local/lib/python3.11/dist-packages (1.0.9)\n",
            "Requirement already satisfied: numpy in /usr/local/lib/python3.11/dist-packages (from banglaspeech2text) (1.26.4)\n",
            "Requirement already satisfied: requests>=2.0.0 in /usr/local/lib/python3.11/dist-packages (from banglaspeech2text) (2.32.3)\n",
            "Requirement already satisfied: SpeechRecognition>=3.8.1 in /usr/local/lib/python3.11/dist-packages (from banglaspeech2text) (3.14.0)\n",
            "Requirement already satisfied: transformers>=4.1.1 in /usr/local/lib/python3.11/dist-packages (from banglaspeech2text) (4.47.1)\n",
            "Requirement already satisfied: pydub<=0.25.1 in /usr/local/lib/python3.11/dist-packages (from banglaspeech2text) (0.25.1)\n",
            "Requirement already satisfied: torch in /usr/local/lib/python3.11/dist-packages (from banglaspeech2text) (2.5.1+cu121)\n",
            "Requirement already satisfied: elevate>=0.1.3 in /usr/local/lib/python3.11/dist-packages (from banglaspeech2text) (0.1.3)\n",
            "Requirement already satisfied: charset-normalizer<4,>=2 in /usr/local/lib/python3.11/dist-packages (from requests>=2.0.0->banglaspeech2text) (3.4.1)\n",
            "Requirement already satisfied: idna<4,>=2.5 in /usr/local/lib/python3.11/dist-packages (from requests>=2.0.0->banglaspeech2text) (3.10)\n",
            "Requirement already satisfied: urllib3<3,>=1.21.1 in /usr/local/lib/python3.11/dist-packages (from requests>=2.0.0->banglaspeech2text) (2.3.0)\n",
            "Requirement already satisfied: certifi>=2017.4.17 in /usr/local/lib/python3.11/dist-packages (from requests>=2.0.0->banglaspeech2text) (2024.12.14)\n",
            "Requirement already satisfied: typing-extensions in /usr/local/lib/python3.11/dist-packages (from SpeechRecognition>=3.8.1->banglaspeech2text) (4.12.2)\n",
            "Requirement already satisfied: filelock in /usr/local/lib/python3.11/dist-packages (from transformers>=4.1.1->banglaspeech2text) (3.16.1)\n",
            "Requirement already satisfied: huggingface-hub<1.0,>=0.24.0 in /usr/local/lib/python3.11/dist-packages (from transformers>=4.1.1->banglaspeech2text) (0.27.1)\n",
            "Requirement already satisfied: packaging>=20.0 in /usr/local/lib/python3.11/dist-packages (from transformers>=4.1.1->banglaspeech2text) (24.2)\n",
            "Requirement already satisfied: pyyaml>=5.1 in /usr/local/lib/python3.11/dist-packages (from transformers>=4.1.1->banglaspeech2text) (6.0.2)\n",
            "Requirement already satisfied: regex!=2019.12.17 in /usr/local/lib/python3.11/dist-packages (from transformers>=4.1.1->banglaspeech2text) (2024.11.6)\n",
            "Requirement already satisfied: tokenizers<0.22,>=0.21 in /usr/local/lib/python3.11/dist-packages (from transformers>=4.1.1->banglaspeech2text) (0.21.0)\n",
            "Requirement already satisfied: safetensors>=0.4.1 in /usr/local/lib/python3.11/dist-packages (from transformers>=4.1.1->banglaspeech2text) (0.5.2)\n",
            "Requirement already satisfied: tqdm>=4.27 in /usr/local/lib/python3.11/dist-packages (from transformers>=4.1.1->banglaspeech2text) (4.67.1)\n",
            "Requirement already satisfied: networkx in /usr/local/lib/python3.11/dist-packages (from torch->banglaspeech2text) (3.4.2)\n",
            "Requirement already satisfied: jinja2 in /usr/local/lib/python3.11/dist-packages (from torch->banglaspeech2text) (3.1.5)\n",
            "Requirement already satisfied: fsspec in /usr/local/lib/python3.11/dist-packages (from torch->banglaspeech2text) (2024.10.0)\n",
            "Requirement already satisfied: nvidia-cuda-nvrtc-cu12==12.1.105 in /usr/local/lib/python3.11/dist-packages (from torch->banglaspeech2text) (12.1.105)\n",
            "Requirement already satisfied: nvidia-cuda-runtime-cu12==12.1.105 in /usr/local/lib/python3.11/dist-packages (from torch->banglaspeech2text) (12.1.105)\n",
            "Requirement already satisfied: nvidia-cuda-cupti-cu12==12.1.105 in /usr/local/lib/python3.11/dist-packages (from torch->banglaspeech2text) (12.1.105)\n",
            "Requirement already satisfied: nvidia-cudnn-cu12==9.1.0.70 in /usr/local/lib/python3.11/dist-packages (from torch->banglaspeech2text) (9.1.0.70)\n",
            "Requirement already satisfied: nvidia-cublas-cu12==12.1.3.1 in /usr/local/lib/python3.11/dist-packages (from torch->banglaspeech2text) (12.1.3.1)\n",
            "Requirement already satisfied: nvidia-cufft-cu12==11.0.2.54 in /usr/local/lib/python3.11/dist-packages (from torch->banglaspeech2text) (11.0.2.54)\n",
            "Requirement already satisfied: nvidia-curand-cu12==10.3.2.106 in /usr/local/lib/python3.11/dist-packages (from torch->banglaspeech2text) (10.3.2.106)\n",
            "Requirement already satisfied: nvidia-cusolver-cu12==11.4.5.107 in /usr/local/lib/python3.11/dist-packages (from torch->banglaspeech2text) (11.4.5.107)\n",
            "Requirement already satisfied: nvidia-cusparse-cu12==12.1.0.106 in /usr/local/lib/python3.11/dist-packages (from torch->banglaspeech2text) (12.1.0.106)\n",
            "Requirement already satisfied: nvidia-nccl-cu12==2.21.5 in /usr/local/lib/python3.11/dist-packages (from torch->banglaspeech2text) (2.21.5)\n",
            "Requirement already satisfied: nvidia-nvtx-cu12==12.1.105 in /usr/local/lib/python3.11/dist-packages (from torch->banglaspeech2text) (12.1.105)\n",
            "Requirement already satisfied: triton==3.1.0 in /usr/local/lib/python3.11/dist-packages (from torch->banglaspeech2text) (3.1.0)\n",
            "Requirement already satisfied: sympy==1.13.1 in /usr/local/lib/python3.11/dist-packages (from torch->banglaspeech2text) (1.13.1)\n",
            "Requirement already satisfied: nvidia-nvjitlink-cu12 in /usr/local/lib/python3.11/dist-packages (from nvidia-cusolver-cu12==11.4.5.107->torch->banglaspeech2text) (12.6.85)\n",
            "Requirement already satisfied: mpmath<1.4,>=1.1.0 in /usr/local/lib/python3.11/dist-packages (from sympy==1.13.1->torch->banglaspeech2text) (1.3.0)\n",
            "Requirement already satisfied: MarkupSafe>=2.0 in /usr/local/lib/python3.11/dist-packages (from jinja2->torch->banglaspeech2text) (3.0.2)\n"
          ]
        }
      ],
      "source": [
        "#Import the library after installation\n",
        "!pip install banglaspeech2text\n",
        "from banglaspeech2text import Speech2Text"
      ]
    },
    {
      "cell_type": "markdown",
      "source": [],
      "metadata": {
        "id": "4mcFLAHvqSc3"
      }
    },
    {
      "cell_type": "code",
      "source": [
        "# install other packages\n",
        "from multiprocessing import freeze_support\n",
        "from transformers import WhisperConfig, WhisperProcessor\n",
        "import os"
      ],
      "metadata": {
        "id": "7AkTAchZqTYk"
      },
      "execution_count": 26,
      "outputs": []
    },
    {
      "cell_type": "code",
      "source": [
        "# prompt: google drive mount\n",
        "\n",
        "from google.colab import drive\n",
        "drive.mount('/content/drive')\n"
      ],
      "metadata": {
        "id": "FpzSpTZyw5NE",
        "colab": {
          "base_uri": "https://localhost:8080/"
        },
        "outputId": "ab16de82-7e6b-4c6d-fe4d-0eac3f838f10"
      },
      "execution_count": 27,
      "outputs": [
        {
          "output_type": "stream",
          "name": "stdout",
          "text": [
            "Drive already mounted at /content/drive; to attempt to forcibly remount, call drive.mount(\"/content/drive\", force_remount=True).\n"
          ]
        }
      ]
    },
    {
      "cell_type": "code",
      "source": [
        "def main():\n",
        "    # Load a model\n",
        "    models = Speech2Text.list_models()  # get a list of available models\n",
        "    print(models)  # print the list of models\n",
        "    model = models[1]  # select a model\n",
        "    print(model)  # print the model name\n",
        "    model = Speech2Text(model)  # load the model\n",
        "\n",
        "    # Use with file\n",
        "    # Get path to Downloads folder\n",
        "    # downloads_path = os.path.join(os.path.expanduser('~'), 'Downloads')\n",
        "    file_name = \"/content/drive/MyDrive/wisperAi/enhanced_output.mp3\"\n",
        "\n",
        "    output = model.recognize(file_name, split=True)\n",
        "    print(output)  # output will be a dict containing text\n",
        "\n",
        "    # Write output to text file\n",
        "    # output_text = output\n",
        "    # output_path = os.path.join(downloads_path, 'speech_output_new.txt')\n",
        "\n",
        "    # with open(output_path, 'w', encoding='utf-8') as f:\n",
        "    #     f.write(output_text)\n",
        "\n",
        "if __name__ == '__main__':\n",
        "    freeze_support()\n",
        "    main()"
      ],
      "metadata": {
        "id": "z3UnAS7Qwyuh",
        "colab": {
          "base_uri": "https://localhost:8080/"
        },
        "outputId": "78163e4b-243e-4e96-cc30-c4bb2e2743a6"
      },
      "execution_count": 35,
      "outputs": [
        {
          "output_type": "stream",
          "name": "stdout",
          "text": [
            "Available models:\n",
            "\ttiny:\n",
            "\t\twhisper-tiny-bn\t74 WER\t~151 MB\tby shhossain (apache-2.0)\n",
            "\t\twhisper-tiny-bn\t75 WER\t~151 MB\tby Emrul Hasan Zawad (apache-2.0)\n",
            "\n",
            "\tbase:\n",
            "\t\twhisper-base-bn\t46 WER\t~300 MB\tby Sifat (apache-2.0)\n",
            "\n",
            "\tlarge:\n",
            "\t\twhisper-large-v2-bn\t11 WER\t~3.1 GB\tby Anurag Singh (apache-2.0)\n",
            "\n",
            "\tsmall:\n",
            "\t\twhisper-small-bn\t18 WER\t~1 GB\tby Anurag Singh (apache-2.0)\n",
            "\n",
            "\n",
            "\n",
            "For more models, visit https://huggingface.co/models?pipeline_tag=automatic-speech-recognition&language=bn&sort=likes\n",
            "small\n"
          ]
        },
        {
          "output_type": "stream",
          "name": "stderr",
          "text": [
            "Device set to use cuda\n",
            "/usr/local/lib/python3.11/dist-packages/transformers/models/whisper/generation_whisper.py:512: FutureWarning: The input name `inputs` is deprecated. Please make sure to use `input_features` instead.\n",
            "  warnings.warn(\n",
            "/usr/local/lib/python3.11/dist-packages/transformers/models/whisper/generation_whisper.py:512: FutureWarning: The input name `inputs` is deprecated. Please make sure to use `input_features` instead.\n",
            "  warnings.warn(\n",
            "/usr/local/lib/python3.11/dist-packages/transformers/models/whisper/generation_whisper.py:512: FutureWarning: The input name `inputs` is deprecated. Please make sure to use `input_features` instead.\n",
            "  warnings.warn(\n",
            "/usr/local/lib/python3.11/dist-packages/transformers/models/whisper/generation_whisper.py:512: FutureWarning: The input name `inputs` is deprecated. Please make sure to use `input_features` instead.\n",
            "  warnings.warn(\n",
            "/usr/local/lib/python3.11/dist-packages/transformers/models/whisper/generation_whisper.py:512: FutureWarning: The input name `inputs` is deprecated. Please make sure to use `input_features` instead.\n",
            "  warnings.warn(\n",
            "/usr/local/lib/python3.11/dist-packages/transformers/models/whisper/generation_whisper.py:512: FutureWarning: The input name `inputs` is deprecated. Please make sure to use `input_features` instead.\n",
            "  warnings.warn(\n",
            "/usr/local/lib/python3.11/dist-packages/transformers/models/whisper/generation_whisper.py:512: FutureWarning: The input name `inputs` is deprecated. Please make sure to use `input_features` instead.\n",
            "  warnings.warn(\n",
            "/usr/local/lib/python3.11/dist-packages/transformers/models/whisper/generation_whisper.py:512: FutureWarning: The input name `inputs` is deprecated. Please make sure to use `input_features` instead.\n",
            "  warnings.warn(\n",
            "/usr/local/lib/python3.11/dist-packages/transformers/models/whisper/generation_whisper.py:512: FutureWarning: The input name `inputs` is deprecated. Please make sure to use `input_features` instead.\n",
            "  warnings.warn(\n",
            "/usr/local/lib/python3.11/dist-packages/transformers/models/whisper/generation_whisper.py:512: FutureWarning: The input name `inputs` is deprecated. Please make sure to use `input_features` instead.\n",
            "  warnings.warn(\n",
            "/usr/local/lib/python3.11/dist-packages/transformers/models/whisper/generation_whisper.py:512: FutureWarning: The input name `inputs` is deprecated. Please make sure to use `input_features` instead.\n",
            "  warnings.warn(\n",
            "/usr/local/lib/python3.11/dist-packages/transformers/models/whisper/generation_whisper.py:512: FutureWarning: The input name `inputs` is deprecated. Please make sure to use `input_features` instead.\n",
            "  warnings.warn(\n",
            "/usr/local/lib/python3.11/dist-packages/transformers/models/whisper/generation_whisper.py:512: FutureWarning: The input name `inputs` is deprecated. Please make sure to use `input_features` instead.\n",
            "  warnings.warn(\n",
            "/usr/local/lib/python3.11/dist-packages/transformers/models/whisper/generation_whisper.py:512: FutureWarning: The input name `inputs` is deprecated. Please make sure to use `input_features` instead.\n",
            "  warnings.warn(\n",
            "/usr/local/lib/python3.11/dist-packages/transformers/models/whisper/generation_whisper.py:512: FutureWarning: The input name `inputs` is deprecated. Please make sure to use `input_features` instead.\n",
            "  warnings.warn(\n",
            "/usr/local/lib/python3.11/dist-packages/transformers/models/whisper/generation_whisper.py:512: FutureWarning: The input name `inputs` is deprecated. Please make sure to use `input_features` instead.\n",
            "  warnings.warn(\n",
            "/usr/local/lib/python3.11/dist-packages/transformers/models/whisper/generation_whisper.py:512: FutureWarning: The input name `inputs` is deprecated. Please make sure to use `input_features` instead.\n",
            "  warnings.warn(\n",
            "/usr/local/lib/python3.11/dist-packages/transformers/models/whisper/generation_whisper.py:512: FutureWarning: The input name `inputs` is deprecated. Please make sure to use `input_features` instead.\n",
            "  warnings.warn(\n",
            "/usr/local/lib/python3.11/dist-packages/transformers/models/whisper/generation_whisper.py:512: FutureWarning: The input name `inputs` is deprecated. Please make sure to use `input_features` instead.\n",
            "  warnings.warn(\n",
            "/usr/local/lib/python3.11/dist-packages/transformers/models/whisper/generation_whisper.py:512: FutureWarning: The input name `inputs` is deprecated. Please make sure to use `input_features` instead.\n",
            "  warnings.warn(\n",
            "/usr/local/lib/python3.11/dist-packages/transformers/models/whisper/generation_whisper.py:512: FutureWarning: The input name `inputs` is deprecated. Please make sure to use `input_features` instead.\n",
            "  warnings.warn(\n",
            "/usr/local/lib/python3.11/dist-packages/transformers/models/whisper/generation_whisper.py:512: FutureWarning: The input name `inputs` is deprecated. Please make sure to use `input_features` instead.\n",
            "  warnings.warn(\n",
            "/usr/local/lib/python3.11/dist-packages/transformers/models/whisper/generation_whisper.py:512: FutureWarning: The input name `inputs` is deprecated. Please make sure to use `input_features` instead.\n",
            "  warnings.warn(\n",
            "/usr/local/lib/python3.11/dist-packages/transformers/models/whisper/generation_whisper.py:512: FutureWarning: The input name `inputs` is deprecated. Please make sure to use `input_features` instead.\n",
            "  warnings.warn(\n",
            "/usr/local/lib/python3.11/dist-packages/transformers/models/whisper/generation_whisper.py:512: FutureWarning: The input name `inputs` is deprecated. Please make sure to use `input_features` instead.\n",
            "  warnings.warn(\n"
          ]
        },
        {
          "output_type": "stream",
          "name": "stdout",
          "text": [
            "['এশনালম মলিকালে কৌসায়েন থেকে আনিকা বছরে আতনাকে কিন্তাবের সহ চিকা করতে পাকে।', 'যেফা', 'আমি আগামি কলকে আগামি কলকে শকার।', 'ছাড়ী আত্মারীয় জ্যায়িয়েওয়েসেই একা দুইড্ডা রিজার্ভেশন ছিল এরকে দুইড্ডা টিকিত ছিল, একটা দুইড্ডার মতে একটা আসলি ক্যান্সেল করাবর্কার। এখননিতে কীভাবে পত্য।', 'দেশে কাঁশন গিমিক্টিয়া নেই।', 'সারমাকে কাইন্দের কা বুকিং আইটি স্বার করবেন, \"আমি চেয়েক করে একতে পারতে আওয়ার সেলার থেকে ঢাকার একটা প্লাইটু হাছে\"।', 'স্থামাকে জানবের কোয়ামুদ ভোটলাইট।', 'ঢাকা থেকে সেলেওতি।', 'দাজিয়া ছিলেদ্য ঢিকা, কাল্কে সকালাক, আতাবৃশায়, ইওয়েশ বাংলায়, আমি বুক্টিন আইটিতে বলে অপনাকে?', 'ও কেছে?', 'একবি, একবি হাইপ্ট্রন পিবি ও কেমি আপ্ন বুকিংকা পেয়েছে, পার্নানাল ধার এবং মোনিরুল ইসলাম।', 'জিদিদি মুনির্যাস।', 'কোন পার্সনের জন্য ক্যান্সিল করতে হবেসে আমাকে একটি সার করবেন? মনেরুল ইসলাম। মনেরুল ইসলামী জন্য ক্যান্সিল করবেন। যে আসেসে অন্য ক্যান্সিল সেন্য জন্য রিক্বাজিত আমাতে টিমকে পাঠিয়ে রিচি আপনাকে ইমেল করেশ সার করা হবে যে আপনি গতততা', 'ইমেলটা চেক করেন?', 'তারজও দিয়া তিনি রাজি থাকেন, তাহলে আমা দেখে মেইলে রিপ্লাইটে ডিএসপাই কানফর্ম বিখে পার্থিয়ে দিবেন, তাহলে আমরা ডিকির তে ক্যান্সল করতে রিফন্ত্রের নিষেত করে দিবেন।', 'যেতু তিন থেকে পাঁচকার্য অবশ্যের মধ্যা, আপনি যে ব্যাম্যান্ত মাধ্যকে ব্যাম্যান্ড করেছে, সেম ব্যাম্যান্য মাধ্যাতে হিসান পেয়ে যাবে, ঠিকাছে।', 'তাঁভারলের মনেরুল্দ ইসলাম, একা চেয়েন সোকারা।', 'মানের ক্যান্সিল হতে সরে উনিল্লিদিস্তান ক্যান্সিল হতে হ্যাসে ও।', 'স্যামিম ক্যান্সেরের শৈন্যের জন্য রিগ্রেজ শেখে দিচ্ছে দিচ্ছে মনেডোল অ্যান্সলাম সাড়ের জন্য আপেয়ে অপেয়ে কান্সল গোষণ কমাতে একটি শুধুমাত্র রিপ্লায় করে যানিতে।', 'টি কাত সেসেও!', 'আই ক্রিফান পলিসিটা হচ্ছে তিন থেকে পাঁচ কার্য দিবার সময়ে প্রজন হবে আপনি যে পেয়মির মাথর থেকে পেয়মেন্ট করেছেন স্থেন পেয়মির মাথে কে রিফান পৌজ।', 'টি কাত্সাসনা? কিশ কিশ কাত্সা ও কেজ কাতে আনকাতে কেয়ার খুনো তথে যানিয়ে সহজিকিতা করতে পারে।', 'মানে মানে মানে মানে মানে।', 'ও কেসা, ঠিকাছে।', 'কথাচুলানীকার শকের গোজামান থেকে ভোল থাকে।']\n"
          ]
        }
      ]
    },
    {
      "cell_type": "code",
      "source": [],
      "metadata": {
        "id": "Im6W6DGqrRpo"
      },
      "execution_count": null,
      "outputs": []
    }
  ]
}